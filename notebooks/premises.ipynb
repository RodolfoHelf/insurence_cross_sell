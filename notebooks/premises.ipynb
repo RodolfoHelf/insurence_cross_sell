{
 "cells": [
  {
   "cell_type": "code",
   "execution_count": 3,
   "metadata": {},
   "outputs": [
    {
     "name": "stdout",
     "output_type": "stream",
     "text": [
      "SEGURO DE SAÚDE\n",
      "Maior preço:659.14\n",
      "Menor Preço:61.02\n",
      "Preço médio:209.73999999999998\n",
      "\n",
      "SEGURO DE CARRO\n",
      "Maior preço:4324.28\n",
      "Menor Preço:1038.4\n",
      "Preço médio:2026.573095238095\n"
     ]
    }
   ],
   "source": [
    "import numpy as np\n",
    "\n",
    "insurence_health_values = np.array([213.94,307.34,405.10,61.02,106.26,164.15,125.70,111.85,659.14,150.15,411.34,67.83,138.73,137.17,253.74,156.75,219.89,122.50,185.00,205.88,136.69,120.39,243.12,133.22,136.63,479.71])\n",
    "\n",
    "insurence_vehicle_values = np.array( [2279.99,2902.42,2751.20,2125.55,1669.87,3255.07,2092.32,2493.34,1131.37,2417.75,2734.37,2047.99,1636.57,2091.32,2661.76,2034.32,2339.02,2462.44,4324.28,3303.76,2152.96,2385.91,1728.52,1150.04,1256.33,1942.67,1799.35,1056.06,1663.56,2138.58,2524.82,1227.98,1415.27,1154.16,1098.90,1539.17,1038.40,1560.70,1461.78,1930.02,1357.75,2778.43])\n",
    "\n",
    "\n",
    "print(f\"SEGURO DE SAÚDE\\nMaior preço:{insurence_health_values.max()}\\nMenor Preço:{insurence_health_values.min()}\\nPreço médio:{insurence_health_values.mean()}\")\n",
    "print(f\"\\nSEGURO DE CARRO\\nMaior preço:{insurence_vehicle_values.max()}\\nMenor Preço:{insurence_vehicle_values.min()}\\nPreço médio:{insurence_vehicle_values.mean()}\")"
   ]
  },
  {
   "cell_type": "code",
   "execution_count": null,
   "metadata": {},
   "outputs": [],
   "source": [
    "# custo do marketing para oferecer o serviço de seguro para carro para clientes"
   ]
  }
 ],
 "metadata": {
  "kernelspec": {
   "display_name": "Python 3",
   "language": "python",
   "name": "python3"
  },
  "language_info": {
   "codemirror_mode": {
    "name": "ipython",
    "version": 3
   },
   "file_extension": ".py",
   "mimetype": "text/x-python",
   "name": "python",
   "nbconvert_exporter": "python",
   "pygments_lexer": "ipython3",
   "version": "3.10.6"
  },
  "orig_nbformat": 4
 },
 "nbformat": 4,
 "nbformat_minor": 2
}
